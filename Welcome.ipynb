{
  "nbformat": 4,
  "nbformat_minor": 0,
  "metadata": {
    "colab": {
      "name": "Welcome.ipynb",
      "provenance": [],
      "include_colab_link": true
    },
    "kernelspec": {
      "name": "python3",
      "display_name": "Python 3"
    }
  },
  "cells": [
    {
      "cell_type": "markdown",
      "metadata": {
        "id": "view-in-github",
        "colab_type": "text"
      },
      "source": [
        "<a href=\"https://colab.research.google.com/github/jaredmoore/CIS_160_Repository/blob/master/Welcome.ipynb\" target=\"_parent\"><img src=\"https://colab.research.google.com/assets/colab-badge.svg\" alt=\"Open In Colab\"/></a>"
      ]
    },
    {
      "cell_type": "markdown",
      "metadata": {
        "id": "BLWBVOHRbjMG",
        "colab_type": "text"
      },
      "source": [
        "### Welcome\n",
        "\n",
        "Welcome to CIS 160.  This is the notebook environment we will be using for lab in class.  Each \"cell\" can be either a code cell or a text cell.  The text you are reading here is a text cell.  \n",
        "1. Double-click on this cell and you should see the raw text underlying it.  \n",
        "2. Now that you see the raw text, click the play button in the bottom left corner of this cell.\n",
        "3. You should be back to the cell appearing to be just text."
      ]
    },
    {
      "cell_type": "code",
      "metadata": {
        "id": "fIyanODDdgTa",
        "colab_type": "code",
        "colab": {
          "base_uri": "https://localhost:8080/",
          "height": 34
        },
        "outputId": "be189745-8cf3-4f53-d658-fa606a860d97"
      },
      "source": [
        "# This is a code cell.  \n",
        "# Lines that begin with a # sign are comment characters \n",
        "# and don't get read by the computer.\n",
        "# The next line is a print statement which outputs the message inside the \n",
        "# parentheses to the screen.\n",
        "print(\"Hello World!\")"
      ],
      "execution_count": 1,
      "outputs": [
        {
          "output_type": "stream",
          "text": [
            "Hello World!\n"
          ],
          "name": "stdout"
        }
      ]
    },
    {
      "cell_type": "markdown",
      "metadata": {
        "id": "pxs0BYrqe05b",
        "colab_type": "text"
      },
      "source": [
        "### Your turn\n",
        "\n",
        "In the next code cell I want you to change the phrases inside the quotations to tell me a little bit about yourself:  \n",
        "1. Your Name\n",
        "2. Your Field of study\n",
        "3. What made you choose this class?\n",
        "4. What are you hoping to get out of this class?"
      ]
    },
    {
      "cell_type": "code",
      "metadata": {
        "id": "SXTxQOwGhn4h",
        "colab_type": "code",
        "colab": {
          "base_uri": "https://localhost:8080/",
          "height": 68
        },
        "outputId": "8c8c7be8-8216-4530-d608-828221eb61f5"
      },
      "source": [
        "print(\"Your Name\")\n",
        "print(\"Field of Study\")\n",
        "print(\"Why take this class?\")\n",
        "# Your last question requires you to write the print statement and answer."
      ],
      "execution_count": 2,
      "outputs": [
        {
          "output_type": "stream",
          "text": [
            "Your Name\n",
            "Field of Study\n",
            "Why take this class?\n"
          ],
          "name": "stdout"
        }
      ]
    },
    {
      "cell_type": "code",
      "metadata": {
        "id": "_qOTeHc3h4el",
        "colab_type": "code",
        "colab": {}
      },
      "source": [
        ""
      ],
      "execution_count": 0,
      "outputs": []
    }
  ]
}