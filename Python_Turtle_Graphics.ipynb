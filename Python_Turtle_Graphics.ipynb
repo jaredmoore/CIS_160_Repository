{
  "nbformat": 4,
  "nbformat_minor": 0,
  "metadata": {
    "colab": {
      "name": "Python Turtle Graphics",
      "provenance": [],
      "include_colab_link": true
    },
    "kernelspec": {
      "name": "python3",
      "display_name": "Python 3"
    }
  },
  "cells": [
    {
      "cell_type": "markdown",
      "metadata": {
        "id": "view-in-github",
        "colab_type": "text"
      },
      "source": [
        "<a href=\"https://colab.research.google.com/github/jaredmoore/CIS_160_Repository/blob/master/Python_Turtle_Graphics.ipynb\" target=\"_parent\"><img src=\"https://colab.research.google.com/assets/colab-badge.svg\" alt=\"Open In Colab\"/></a>"
      ]
    },
    {
      "cell_type": "markdown",
      "metadata": {
        "id": "2uHVEW4FWJ7h",
        "colab_type": "text"
      },
      "source": [
        "Source For Getting Turtle Running: https://stackoverflow.com/a/59060062"
      ]
    },
    {
      "cell_type": "markdown",
      "metadata": {
        "id": "WnaB1qDEeUsq",
        "colab_type": "text"
      },
      "source": [
        "## Introduction\n",
        "\n",
        "In this lab you will work with Turtle graphics getting an introduction to using library code, basic method calls, and variables.\n",
        "\n",
        "### Goals\n",
        "\n",
        "1. Get familiar with the Google Colab programming notebook environment.\n",
        "2. Gain familiarity installing and using library code.\n",
        "3. Work with basic variables.\n",
        "\n",
        "### Using Other's Code\n",
        "\n",
        "A common practice in when developing programs is to use code that others have written.  This can save us effort illustrating the concept of not repeating work.  Throughout this course we will be using code others have written by installing and importing libraries.  A library is a collection of code centered around a specific set of functionality.  The first library we'll use is the \n",
        "Turtle graphics library, specifically a version built for Google Colab.\n",
        "\n",
        "Often when we plan to use a library, we need to first install it.  To do so, run the following cell which installs the `ColabTurtle` library into your Python runtime environment.  To execute the instructions in the cell either press shift+enter or click the play button in the upper left corner of the cell."
      ]
    },
    {
      "cell_type": "code",
      "metadata": {
        "id": "rBa1qF_JWHH4",
        "colab_type": "code",
        "outputId": "eb37d0c2-dc91-4a83-8a84-bc84b12c61bc",
        "colab": {
          "base_uri": "https://localhost:8080/",
          "height": 170
        }
      },
      "source": [
        "# Install Turtle library into the environment.\n",
        "!pip3 install ColabTurtle"
      ],
      "execution_count": 0,
      "outputs": [
        {
          "output_type": "stream",
          "text": [
            "Collecting ColabTurtle\n",
            "  Downloading https://files.pythonhosted.org/packages/49/01/6da7091c2c6c917cce99c000b89acb6aa27b66ef6eafc0c0ccf59b98694f/ColabTurtle-2.0.0.tar.gz\n",
            "Building wheels for collected packages: ColabTurtle\n",
            "  Building wheel for ColabTurtle (setup.py) ... \u001b[?25l\u001b[?25hdone\n",
            "  Created wheel for ColabTurtle: filename=ColabTurtle-2.0.0-cp36-none-any.whl size=4031 sha256=4296293eddc8c769431b6312a5eafe14858a176ad1430a8335feab39f6fc601b\n",
            "  Stored in directory: /root/.cache/pip/wheels/a8/29/ec/ad346f0042ae467cc74f4378916348faf975b07890651dcae7\n",
            "Successfully built ColabTurtle\n",
            "Installing collected packages: ColabTurtle\n",
            "Successfully installed ColabTurtle-2.0.0\n"
          ],
          "name": "stdout"
        }
      ]
    },
    {
      "cell_type": "markdown",
      "metadata": {
        "id": "hA7COfD14QkV",
        "colab_type": "text"
      },
      "source": [
        "### What just happened?\n",
        "\n",
        "When running the cell above, you just installed the ColabTurtle library into your Python runtime environment.  In Google Colab we must run the install process everytime we reload the environment.  If running Python code locally, you typically run the installation once and then it persists in your Python installation.  Later in the semester we will explore that process.\n",
        "\n",
        "### Next Steps: Importing\n",
        "\n",
        "Once installed, we have to import the library into our program.  Execute the next cell to allow the actions provided by the ColabTurtle library to be accessible to us."
      ]
    },
    {
      "cell_type": "code",
      "metadata": {
        "id": "CHwc6pSRWd3w",
        "colab_type": "code",
        "colab": {}
      },
      "source": [
        "# Now we need to import the newly installed library.\n",
        "from ColabTurtle.Turtle import *"
      ],
      "execution_count": 0,
      "outputs": []
    },
    {
      "cell_type": "markdown",
      "metadata": {
        "id": "b6DnAmntfAIy",
        "colab_type": "text"
      },
      "source": [
        "### ColabTurtle Functionality\n",
        "\n",
        "The ColabTurtle library allows us to draw simple graphics to a screen that is rendered in our notebook.  Details of the code are available at: [ColabTurtle.py](https://github.com/tolgaatam/ColabTurtle/blob/master/ColabTurtle/Turtle.py), however, for now you only need to know of the following actions.  Each action is housed in a method, or lines of code that perform a specific task.  \n",
        "\n",
        "The basic actions available to you are:  \n",
        "`forward(distance)`: Move the turtle forward a set distance.  \n",
        "`left(degrees)`: Rotate the turtle a number of degrees to the left.  \n",
        "`right(degrees)`: Rotate the turtle a number of degrees to the right.  \n",
        "`penup()`: Lift the pen so that the turtle doesn't draw a line when moving.  \n",
        "`pendown()`: Lower the pen so the turtle draws a line when moving.  \n",
        "\n",
        "The following cells provide you with a few ideas on how to initialize the drawing environment and run a few of the actions.  Execute them by pressing the play button or hitting shift+enter.  Observe the actions to get a feel for how the program works."
      ]
    },
    {
      "cell_type": "code",
      "metadata": {
        "id": "kiRO9-B7WkkH",
        "colab_type": "code",
        "outputId": "b613ccd7-9c63-4413-d889-87c040a72c1b",
        "colab": {
          "base_uri": "https://localhost:8080/",
          "height": 271
        }
      },
      "source": [
        "# Initialize the turtle drawing environment and window.\n",
        "initializeTurtle(initial_window_size=(400,250))"
      ],
      "execution_count": 0,
      "outputs": [
        {
          "output_type": "display_data",
          "data": {
            "text/html": [
              "\n",
              "      <svg width=\"400\" height=\"250\">\n",
              "        <rect width=\"100%\" height=\"100%\" fill=\"black\"/>\n",
              "        \n",
              "        \n",
              "      <g visibility=visible transform=\"rotate(180,200,125) translate(200, 125)\">\n",
              "        <circle stroke=\"white\" stroke-width=\"3\" fill=\"transparent\" r=\"12\" cx=\"0\" cy=\"0\"/>\n",
              "        <polygon points=\"0,19 3,16 -3,16\" style=\"fill:white;stroke:white;stroke-width:2\"/>\n",
              "      </g>\n",
              "    \n",
              "      </svg>\n",
              "    "
            ],
            "text/plain": [
              "<IPython.core.display.HTML object>"
            ]
          },
          "metadata": {
            "tags": []
          }
        }
      ]
    },
    {
      "cell_type": "code",
      "metadata": {
        "id": "HQwFrkfPWmt9",
        "colab_type": "code",
        "outputId": "790079ef-0c76-47a8-9fc3-59f846741ab4",
        "colab": {
          "base_uri": "https://localhost:8080/",
          "height": 271
        }
      },
      "source": [
        "# Perform a sequence of method calls to move the turtle.\n",
        "forward(50)\n",
        "left(90)\n",
        "forward(50)\n",
        "left(90)\n",
        "forward(50)\n",
        "left(90)\n",
        "forward(50)"
      ],
      "execution_count": 0,
      "outputs": [
        {
          "output_type": "display_data",
          "data": {
            "text/html": [
              "\n",
              "      <svg width=\"400\" height=\"250\">\n",
              "        <rect width=\"100%\" height=\"100%\" fill=\"black\"/>\n",
              "        <line x1=\"200\" y1=\"125\" x2=\"200.0\" y2=\"75.0\" stroke-linecap=\"round\" style=\"stroke:white;stroke-width:4\"/><line x1=\"200.0\" y1=\"75.0\" x2=\"150.0\" y2=\"75.0\" stroke-linecap=\"round\" style=\"stroke:white;stroke-width:4\"/><line x1=\"150.0\" y1=\"75.0\" x2=\"150.0\" y2=\"125.0\" stroke-linecap=\"round\" style=\"stroke:white;stroke-width:4\"/><line x1=\"150.0\" y1=\"125.0\" x2=\"200.0\" y2=\"125.0\" stroke-linecap=\"round\" style=\"stroke:white;stroke-width:4\"/>\n",
              "        \n",
              "      <g visibility=visible transform=\"rotate(-90,200.0,125.0) translate(200.0, 125.0)\">\n",
              "        <circle stroke=\"white\" stroke-width=\"3\" fill=\"transparent\" r=\"12\" cx=\"0\" cy=\"0\"/>\n",
              "        <polygon points=\"0,19 3,16 -3,16\" style=\"fill:white;stroke:white;stroke-width:2\"/>\n",
              "      </g>\n",
              "    \n",
              "      </svg>\n",
              "    "
            ],
            "text/plain": [
              "<IPython.core.display.HTML object>"
            ]
          },
          "metadata": {
            "tags": []
          }
        }
      ]
    },
    {
      "cell_type": "markdown",
      "metadata": {
        "id": "xeosg-VH6A-d",
        "colab_type": "text"
      },
      "source": [
        "\n",
        "# Question 1: What did the method calls draw to the screen?\n"
      ]
    },
    {
      "cell_type": "code",
      "metadata": {
        "id": "T_13C46zYBPe",
        "colab_type": "code",
        "outputId": "cd064c28-b6af-4915-c3c6-36f25776af92",
        "colab": {
          "base_uri": "https://localhost:8080/",
          "height": 271
        }
      },
      "source": [
        "# Execute a new set of methods.\n",
        "right(90)\n",
        "forward(25)\n",
        "right(90)\n",
        "forward(25)\n",
        "right(90)\n",
        "forward(25)\n",
        "right(90)\n",
        "forward(25)"
      ],
      "execution_count": 0,
      "outputs": [
        {
          "output_type": "display_data",
          "data": {
            "text/html": [
              "\n",
              "      <svg width=\"400\" height=\"250\">\n",
              "        <rect width=\"100%\" height=\"100%\" fill=\"black\"/>\n",
              "        <line x1=\"200\" y1=\"125\" x2=\"200.0\" y2=\"75.0\" stroke-linecap=\"round\" style=\"stroke:white;stroke-width:4\"/><line x1=\"200.0\" y1=\"75.0\" x2=\"150.0\" y2=\"75.0\" stroke-linecap=\"round\" style=\"stroke:white;stroke-width:4\"/><line x1=\"150.0\" y1=\"75.0\" x2=\"150.0\" y2=\"125.0\" stroke-linecap=\"round\" style=\"stroke:white;stroke-width:4\"/><line x1=\"150.0\" y1=\"125.0\" x2=\"200.0\" y2=\"125.0\" stroke-linecap=\"round\" style=\"stroke:white;stroke-width:4\"/><line x1=\"200.0\" y1=\"125.0\" x2=\"200.0\" y2=\"150.0\" stroke-linecap=\"round\" style=\"stroke:white;stroke-width:4\"/><line x1=\"200.0\" y1=\"150.0\" x2=\"175.0\" y2=\"150.0\" stroke-linecap=\"round\" style=\"stroke:white;stroke-width:4\"/><line x1=\"175.0\" y1=\"150.0\" x2=\"175.0\" y2=\"125.0\" stroke-linecap=\"round\" style=\"stroke:white;stroke-width:4\"/><line x1=\"175.0\" y1=\"125.0\" x2=\"200.0\" y2=\"125.0\" stroke-linecap=\"round\" style=\"stroke:white;stroke-width:4\"/>\n",
              "        \n",
              "      <g visibility=visible transform=\"rotate(-90,200.0,125.0) translate(200.0, 125.0)\">\n",
              "        <circle stroke=\"white\" stroke-width=\"3\" fill=\"transparent\" r=\"12\" cx=\"0\" cy=\"0\"/>\n",
              "        <polygon points=\"0,19 3,16 -3,16\" style=\"fill:white;stroke:white;stroke-width:2\"/>\n",
              "      </g>\n",
              "    \n",
              "      </svg>\n",
              "    "
            ],
            "text/plain": [
              "<IPython.core.display.HTML object>"
            ]
          },
          "metadata": {
            "tags": []
          }
        }
      ]
    },
    {
      "cell_type": "markdown",
      "metadata": {
        "id": "9qxkdiQB7Rch",
        "colab_type": "text"
      },
      "source": [
        "# Question 2: What changed in the sequence of method calls as compared to the previous series?\n",
        "# Question 3: How did the change effect what was drawn to the screen?\n",
        "\n",
        "## Variables\n",
        "\n",
        "Although we can change all the numbers in the method calls to draw new shapes, you can imagine that for the above cells it would take at least four edits to update a number.  For more complex shapes this could be seven, fourteen, or even twenty plus changes.  Not only is this tiring for us humans to go through and repetively change, but it also introduces the possibility for an error if we were to make a mistake by not changing one or two of the numbers.  \n",
        "\n",
        "We address this as programmers by using a variable, or simply a container to hold a value that we can then use repeatedly.  In the first line of the following cell you will see the statement `x = 45` and in subsequent lines the statements `right(x)`.  Rather than typing `right(45)` repeatedly, `x` \"stands in\" for 45 in the method calls.  By assigning the value 45 to the variable `x`, we are repeatedly using the variable to send the value 45 to the call to `right()`."
      ]
    },
    {
      "cell_type": "code",
      "metadata": {
        "id": "U1ke6OzYZkF1",
        "colab_type": "code",
        "outputId": "73bdd88b-4fd2-4560-ef06-24e9e88ba6be",
        "colab": {
          "base_uri": "https://localhost:8080/",
          "height": 271
        }
      },
      "source": [
        "# Execute the following code.\n",
        "x = 45\n",
        "right(x)\n",
        "forward(25)\n",
        "right(x)\n",
        "forward(25)\n",
        "right(x)\n",
        "forward(25)\n",
        "right(x)\n",
        "forward(25)"
      ],
      "execution_count": 0,
      "outputs": [
        {
          "output_type": "display_data",
          "data": {
            "text/html": [
              "\n",
              "      <svg width=\"400\" height=\"250\">\n",
              "        <rect width=\"100%\" height=\"100%\" fill=\"black\"/>\n",
              "        <line x1=\"200\" y1=\"125\" x2=\"200.0\" y2=\"75.0\" stroke-linecap=\"round\" style=\"stroke:white;stroke-width:4\"/><line x1=\"200.0\" y1=\"75.0\" x2=\"150.0\" y2=\"75.0\" stroke-linecap=\"round\" style=\"stroke:white;stroke-width:4\"/><line x1=\"150.0\" y1=\"75.0\" x2=\"150.0\" y2=\"125.0\" stroke-linecap=\"round\" style=\"stroke:white;stroke-width:4\"/><line x1=\"150.0\" y1=\"125.0\" x2=\"200.0\" y2=\"125.0\" stroke-linecap=\"round\" style=\"stroke:white;stroke-width:4\"/><line x1=\"200.0\" y1=\"125.0\" x2=\"200.0\" y2=\"150.0\" stroke-linecap=\"round\" style=\"stroke:white;stroke-width:4\"/><line x1=\"200.0\" y1=\"150.0\" x2=\"175.0\" y2=\"150.0\" stroke-linecap=\"round\" style=\"stroke:white;stroke-width:4\"/><line x1=\"175.0\" y1=\"150.0\" x2=\"175.0\" y2=\"125.0\" stroke-linecap=\"round\" style=\"stroke:white;stroke-width:4\"/><line x1=\"175.0\" y1=\"125.0\" x2=\"200.0\" y2=\"125.0\" stroke-linecap=\"round\" style=\"stroke:white;stroke-width:4\"/><line x1=\"200.0\" y1=\"125.0\" x2=\"217.6776695296637\" y2=\"142.6776695296637\" stroke-linecap=\"round\" style=\"stroke:white;stroke-width:4\"/><line x1=\"217.6776695296637\" y1=\"142.6776695296637\" x2=\"217.6776695296637\" y2=\"167.6776695296637\" stroke-linecap=\"round\" style=\"stroke:white;stroke-width:4\"/><line x1=\"217.6776695296637\" y1=\"167.6776695296637\" x2=\"200.0\" y2=\"185.35533905932738\" stroke-linecap=\"round\" style=\"stroke:white;stroke-width:4\"/><line x1=\"200.0\" y1=\"185.35533905932738\" x2=\"175.0\" y2=\"185.35533905932738\" stroke-linecap=\"round\" style=\"stroke:white;stroke-width:4\"/><line x1=\"175.0\" y1=\"185.35533905932738\" x2=\"157.3223304703363\" y2=\"167.6776695296637\" stroke-linecap=\"round\" style=\"stroke:white;stroke-width:4\"/><line x1=\"157.3223304703363\" y1=\"167.6776695296637\" x2=\"157.3223304703363\" y2=\"142.6776695296637\" stroke-linecap=\"round\" style=\"stroke:white;stroke-width:4\"/><line x1=\"157.3223304703363\" y1=\"142.6776695296637\" x2=\"175.0\" y2=\"125.0\" stroke-linecap=\"round\" style=\"stroke:white;stroke-width:4\"/><line x1=\"175.0\" y1=\"125.0\" x2=\"200.0\" y2=\"125.0\" stroke-linecap=\"round\" style=\"stroke:white;stroke-width:4\"/>\n",
              "        \n",
              "      <g visibility=visible transform=\"rotate(-90,200.0,125.0) translate(200.0, 125.0)\">\n",
              "        <circle stroke=\"white\" stroke-width=\"3\" fill=\"transparent\" r=\"12\" cx=\"0\" cy=\"0\"/>\n",
              "        <polygon points=\"0,19 3,16 -3,16\" style=\"fill:white;stroke:white;stroke-width:2\"/>\n",
              "      </g>\n",
              "    \n",
              "      </svg>\n",
              "    "
            ],
            "text/plain": [
              "<IPython.core.display.HTML object>"
            ]
          },
          "metadata": {
            "tags": []
          }
        }
      ]
    },
    {
      "cell_type": "markdown",
      "metadata": {
        "id": "6VH6Xt_F-su5",
        "colab_type": "text"
      },
      "source": [
        "After executing the above cell, execute it again.  We can repeatedly run code, or in this case cells, to run the same set of actions a second time.  \n",
        "\n",
        "# Question 4: What shape is produced by the above code run twice?\n",
        "\n",
        "The following cell introduces a second variable `d` which we replace raw values in the calls to `forward()`.  Run the cell a few times with different values for `d`.  "
      ]
    },
    {
      "cell_type": "code",
      "metadata": {
        "id": "KFUyAirVZzp6",
        "colab_type": "code",
        "outputId": "1e6466b4-4cdc-474b-ccaf-f6c6f394d326",
        "colab": {
          "base_uri": "https://localhost:8080/",
          "height": 271
        }
      },
      "source": [
        "x = 90\n",
        "d = 75\n",
        "right(x)\n",
        "forward(d)\n",
        "right(x)\n",
        "forward(d)\n",
        "right(x)\n",
        "forward(d)\n",
        "right(x)\n",
        "forward(d)"
      ],
      "execution_count": 0,
      "outputs": [
        {
          "output_type": "display_data",
          "data": {
            "text/html": [
              "\n",
              "      <svg width=\"400\" height=\"250\">\n",
              "        <rect width=\"100%\" height=\"100%\" fill=\"black\"/>\n",
              "        <line x1=\"200\" y1=\"125\" x2=\"200.0\" y2=\"75.0\" stroke-linecap=\"round\" style=\"stroke:white;stroke-width:4\"/><line x1=\"200.0\" y1=\"75.0\" x2=\"150.0\" y2=\"75.0\" stroke-linecap=\"round\" style=\"stroke:white;stroke-width:4\"/><line x1=\"150.0\" y1=\"75.0\" x2=\"150.0\" y2=\"125.0\" stroke-linecap=\"round\" style=\"stroke:white;stroke-width:4\"/><line x1=\"150.0\" y1=\"125.0\" x2=\"200.0\" y2=\"125.0\" stroke-linecap=\"round\" style=\"stroke:white;stroke-width:4\"/><line x1=\"200.0\" y1=\"125.0\" x2=\"200.0\" y2=\"150.0\" stroke-linecap=\"round\" style=\"stroke:white;stroke-width:4\"/><line x1=\"200.0\" y1=\"150.0\" x2=\"175.0\" y2=\"150.0\" stroke-linecap=\"round\" style=\"stroke:white;stroke-width:4\"/><line x1=\"175.0\" y1=\"150.0\" x2=\"175.0\" y2=\"125.0\" stroke-linecap=\"round\" style=\"stroke:white;stroke-width:4\"/><line x1=\"175.0\" y1=\"125.0\" x2=\"200.0\" y2=\"125.0\" stroke-linecap=\"round\" style=\"stroke:white;stroke-width:4\"/><line x1=\"200.0\" y1=\"125.0\" x2=\"217.6776695296637\" y2=\"142.6776695296637\" stroke-linecap=\"round\" style=\"stroke:white;stroke-width:4\"/><line x1=\"217.6776695296637\" y1=\"142.6776695296637\" x2=\"217.6776695296637\" y2=\"167.6776695296637\" stroke-linecap=\"round\" style=\"stroke:white;stroke-width:4\"/><line x1=\"217.6776695296637\" y1=\"167.6776695296637\" x2=\"200.0\" y2=\"185.35533905932738\" stroke-linecap=\"round\" style=\"stroke:white;stroke-width:4\"/><line x1=\"200.0\" y1=\"185.35533905932738\" x2=\"175.0\" y2=\"185.35533905932738\" stroke-linecap=\"round\" style=\"stroke:white;stroke-width:4\"/><line x1=\"175.0\" y1=\"185.35533905932738\" x2=\"157.3223304703363\" y2=\"167.6776695296637\" stroke-linecap=\"round\" style=\"stroke:white;stroke-width:4\"/><line x1=\"157.3223304703363\" y1=\"167.6776695296637\" x2=\"157.3223304703363\" y2=\"142.6776695296637\" stroke-linecap=\"round\" style=\"stroke:white;stroke-width:4\"/><line x1=\"157.3223304703363\" y1=\"142.6776695296637\" x2=\"175.0\" y2=\"125.0\" stroke-linecap=\"round\" style=\"stroke:white;stroke-width:4\"/><line x1=\"175.0\" y1=\"125.0\" x2=\"200.0\" y2=\"125.0\" stroke-linecap=\"round\" style=\"stroke:white;stroke-width:4\"/><line x1=\"200.0\" y1=\"125.0\" x2=\"200.0\" y2=\"200.0\" stroke-linecap=\"round\" style=\"stroke:white;stroke-width:4\"/><line x1=\"200.0\" y1=\"200.0\" x2=\"125.0\" y2=\"200.0\" stroke-linecap=\"round\" style=\"stroke:white;stroke-width:4\"/><line x1=\"125.0\" y1=\"200.0\" x2=\"124.99999999999999\" y2=\"125.0\" stroke-linecap=\"round\" style=\"stroke:white;stroke-width:4\"/><line x1=\"124.99999999999999\" y1=\"125.0\" x2=\"200.0\" y2=\"125.0\" stroke-linecap=\"round\" style=\"stroke:white;stroke-width:4\"/>\n",
              "        \n",
              "      <g visibility=visible transform=\"rotate(-90,200.0,125.0) translate(200.0, 125.0)\">\n",
              "        <circle stroke=\"white\" stroke-width=\"3\" fill=\"transparent\" r=\"12\" cx=\"0\" cy=\"0\"/>\n",
              "        <polygon points=\"0,19 3,16 -3,16\" style=\"fill:white;stroke:white;stroke-width:2\"/>\n",
              "      </g>\n",
              "    \n",
              "      </svg>\n",
              "    "
            ],
            "text/plain": [
              "<IPython.core.display.HTML object>"
            ]
          },
          "metadata": {
            "tags": []
          }
        }
      ]
    },
    {
      "cell_type": "markdown",
      "metadata": {
        "id": "Xyhm6GG__Qnm",
        "colab_type": "text"
      },
      "source": [
        "# Question 5: What does changing the value for `d` do?\n",
        "\n",
        "The following code is quite long, first initializing a new window effectively clearing the previous drawing.  It then repeats a series of method calls nine times.  It draws a flower on the screen."
      ]
    },
    {
      "cell_type": "code",
      "metadata": {
        "id": "CBA9jT1wZ9tS",
        "colab_type": "code",
        "outputId": "5db38ffa-dd74-4d12-c0ed-a91e3c8fab3d",
        "colab": {
          "base_uri": "https://localhost:8080/",
          "height": 271
        }
      },
      "source": [
        "initializeTurtle(initial_window_size=(400,250))\n",
        "dist = 30\n",
        "ang = 15\n",
        "\n",
        "forward(dist)\n",
        "right(ang)\n",
        "forward(dist)\n",
        "right(ang)\n",
        "forward((int)(dist/3))\n",
        "right((int) (180-ang*2))\n",
        "forward((int) (dist*1.5))\n",
        "right(20)\n",
        "forward(dist)\n",
        "right(ang)\n",
        "forward(dist)\n",
        "right(ang)\n",
        "forward((int)(dist/3))\n",
        "right((int) (180-ang*2))\n",
        "forward((int) (dist*1.5))\n",
        "right(20)\n",
        "forward(dist)\n",
        "right(ang)\n",
        "forward(dist)\n",
        "right(ang)\n",
        "forward((int)(dist/3))\n",
        "right((int) (180-ang*2))\n",
        "forward((int) (dist*1.5))\n",
        "right(20)\n",
        "forward(dist)\n",
        "right(ang)\n",
        "forward(dist)\n",
        "right(ang)\n",
        "forward((int)(dist/3))\n",
        "right((int) (180-ang*2))\n",
        "forward((int) (dist*1.5))\n",
        "right(20)\n",
        "forward(dist)\n",
        "right(ang)\n",
        "forward(dist)\n",
        "right(ang)\n",
        "forward((int)(dist/3))\n",
        "right((int) (180-ang*2))\n",
        "forward((int) (dist*1.5))\n",
        "right(20)\n",
        "forward(dist)\n",
        "right(ang)\n",
        "forward(dist)\n",
        "right(ang)\n",
        "forward((int)(dist/3))\n",
        "right((int) (180-ang*2))\n",
        "forward((int) (dist*1.5))\n",
        "right(20)\n",
        "forward(dist)\n",
        "right(ang)\n",
        "forward(dist)\n",
        "right(ang)\n",
        "forward((int)(dist/3))\n",
        "right((int) (180-ang*2))\n",
        "forward((int) (dist*1.5))\n",
        "right(20)\n",
        "forward(dist)\n",
        "right(ang)\n",
        "forward(dist)\n",
        "right(ang)\n",
        "forward((int)(dist/3))\n",
        "right((int) (180-ang*2))\n",
        "forward((int) (dist*1.5))\n",
        "right(20)\n",
        "forward(dist)\n",
        "right(ang)\n",
        "forward(dist)\n",
        "right(ang)\n",
        "forward((int)(dist/3))\n",
        "right((int) (180-ang*2))\n",
        "forward((int) (dist*1.5))\n",
        "right(20)\n",
        "penup()\n",
        "\n",
        "# A cleaner way once we introduce looping.\n",
        "#for _ in range(10):\n",
        "#  forward(dist)\n",
        "#  right(ang)\n",
        "#  forward(dist)\n",
        "#  right(ang)\n",
        "#  forward((int)(dist/3))\n",
        "#  right((int) (180-ang*2))\n",
        "#  forward((int) (dist*1.5))\n",
        "#  right(20)"
      ],
      "execution_count": 0,
      "outputs": [
        {
          "output_type": "display_data",
          "data": {
            "text/html": [
              "\n",
              "      <svg width=\"400\" height=\"250\">\n",
              "        <rect width=\"100%\" height=\"100%\" fill=\"black\"/>\n",
              "        <line x1=\"200\" y1=\"125\" x2=\"200.0\" y2=\"95.0\" stroke-linecap=\"round\" style=\"stroke:white;stroke-width:4\"/><line x1=\"200.0\" y1=\"95.0\" x2=\"207.7645713530756\" y2=\"66.02222521132795\" stroke-linecap=\"round\" style=\"stroke:white;stroke-width:4\"/><line x1=\"207.7645713530756\" y1=\"66.02222521132795\" x2=\"212.7645713530756\" y2=\"57.36197117348357\" stroke-linecap=\"round\" style=\"stroke:white;stroke-width:4\"/><line x1=\"212.7645713530756\" y1=\"57.36197117348357\" x2=\"212.7645713530756\" y2=\"102.36197117348357\" stroke-linecap=\"round\" style=\"stroke:white;stroke-width:4\"/><line x1=\"212.7645713530756\" y1=\"102.36197117348357\" x2=\"202.50396705330556\" y2=\"130.5527497970608\" stroke-linecap=\"round\" style=\"stroke:white;stroke-width:4\"/><line x1=\"202.50396705330556\" y1=\"130.5527497970608\" x2=\"185.29667396277418\" y2=\"155.12731112573056\" stroke-linecap=\"round\" style=\"stroke:white;stroke-width:4\"/><line x1=\"185.29667396277418\" y1=\"155.12731112573056\" x2=\"177.6362295315844\" y2=\"161.55518722259595\" stroke-linecap=\"round\" style=\"stroke:white;stroke-width:4\"/><line x1=\"177.6362295315844\" y1=\"161.55518722259595\" x2=\"193.0271359812395\" y2=\"119.26901928723007\" stroke-linecap=\"round\" style=\"stroke:white;stroke-width:4\"/><line x1=\"193.0271359812395\" y1=\"119.26901928723007\" x2=\"212.31076427183567\" y2=\"96.28768599366072\" stroke-linecap=\"round\" style=\"stroke:white;stroke-width:4\"/><line x1=\"212.31076427183567\" y1=\"96.28768599366072\" x2=\"236.8853256005054\" y2=\"79.08039290312932\" stroke-linecap=\"round\" style=\"stroke:white;stroke-width:4\"/><line x1=\"236.8853256005054\" y1=\"79.08039290312932\" x2=\"246.2822518083645\" y2=\"75.66019146987264\" stroke-linecap=\"round\" style=\"stroke:white;stroke-width:4\"/><line x1=\"246.2822518083645\" y1=\"75.66019146987264\" x2=\"217.35680937247022\" y2=\"110.13219141022665\" stroke-linecap=\"round\" style=\"stroke:white;stroke-width:4\"/><line x1=\"217.35680937247022\" y1=\"110.13219141022665\" x2=\"191.37604725893706\" y2=\"125.13219141022665\" stroke-linecap=\"round\" style=\"stroke:white;stroke-width:4\"/><line x1=\"191.37604725893706\" y1=\"125.13219141022665\" x2=\"162.39827247026503\" y2=\"132.8967627633023\" stroke-linecap=\"round\" style=\"stroke:white;stroke-width:4\"/><line x1=\"162.39827247026503\" y1=\"132.8967627633023\" x2=\"152.39827247026503\" y2=\"132.8967627633023\" stroke-linecap=\"round\" style=\"stroke:white;stroke-width:4\"/><line x1=\"152.39827247026503\" y1=\"132.8967627633023\" x2=\"191.36941564056474\" y2=\"110.39676276330226\" stroke-linecap=\"round\" style=\"stroke:white;stroke-width:4\"/><line x1=\"191.36941564056474\" y1=\"110.39676276330226\" x2=\"220.913648230931\" y2=\"105.18731743329435\" stroke-linecap=\"round\" style=\"stroke:white;stroke-width:4\"/><line x1=\"220.913648230931\" y1=\"105.18731743329435\" x2=\"250.79948917368336\" y2=\"107.8019897157241\" stroke-linecap=\"round\" style=\"stroke:white;stroke-width:4\"/><line x1=\"250.79948917368336\" y1=\"107.8019897157241\" x2=\"260.19641538154247\" y2=\"111.2221911489808\" stroke-linecap=\"round\" style=\"stroke:white;stroke-width:4\"/><line x1=\"260.19641538154247\" y1=\"111.2221911489808\" x2=\"215.8800664959931\" y2=\"119.03635914399266\" stroke-linecap=\"round\" style=\"stroke:white;stroke-width:4\"/><line x1=\"215.8800664959931\" y1=\"119.03635914399266\" x2=\"186.33583390562686\" y2=\"113.82691381398475\" stroke-linecap=\"round\" style=\"stroke:white;stroke-width:4\"/><line x1=\"186.33583390562686\" y1=\"113.82691381398475\" x2=\"159.14660029452736\" y2=\"101.14836596176377\" stroke-linecap=\"round\" style=\"stroke:white;stroke-width:4\"/><line x1=\"159.14660029452736\" y1=\"101.14836596176377\" x2=\"151.4861558633376\" y2=\"94.72048986489838\" stroke-linecap=\"round\" style=\"stroke:white;stroke-width:4\"/><line x1=\"151.4861558633376\" y1=\"94.72048986489838\" x2=\"195.80250474888695\" y2=\"102.53465785991025\" stroke-linecap=\"round\" style=\"stroke:white;stroke-width:4\"/><line x1=\"195.80250474888695\" y1=\"102.53465785991025\" x2=\"221.7832668624201\" y2=\"117.53465785991025\" stroke-linecap=\"round\" style=\"stroke:white;stroke-width:4\"/><line x1=\"221.7832668624201\" y1=\"117.53465785991025\" x2=\"242.99647029801653\" y2=\"138.74786129550668\" stroke-linecap=\"round\" style=\"stroke:white;stroke-width:4\"/><line x1=\"242.99647029801653\" y1=\"138.74786129550668\" x2=\"247.99647029801653\" y2=\"147.40811533335108\" stroke-linecap=\"round\" style=\"stroke:white;stroke-width:4\"/><line x1=\"247.99647029801653\" y1=\"147.40811533335108\" x2=\"209.0253271277168\" y2=\"124.90811533335108\" stroke-linecap=\"round\" style=\"stroke:white;stroke-width:4\"/><line x1=\"209.0253271277168\" y1=\"124.90811533335108\" x2=\"189.74169883712062\" y2=\"101.92678203978174\" stroke-linecap=\"round\" style=\"stroke:white;stroke-width:4\"/><line x1=\"189.74169883712062\" y1=\"101.92678203978174\" x2=\"177.06315098489964\" y2=\"74.73754842868223\" stroke-linecap=\"round\" style=\"stroke:white;stroke-width:4\"/><line x1=\"177.06315098489964\" y1=\"74.73754842868223\" x2=\"175.32666920823033\" y2=\"64.88947089856015\" stroke-linecap=\"round\" style=\"stroke:white;stroke-width:4\"/><line x1=\"175.32666920823033\" y1=\"64.88947089856015\" x2=\"204.2521116441246\" y2=\"99.36147083891416\" stroke-linecap=\"round\" style=\"stroke:white;stroke-width:4\"/><line x1=\"204.2521116441246\" y1=\"99.36147083891416\" x2=\"214.51271594389465\" y2=\"127.5522494624914\" stroke-linecap=\"round\" style=\"stroke:white;stroke-width:4\"/><line x1=\"214.51271594389465\" y1=\"127.5522494624914\" x2=\"217.1273882263244\" y2=\"157.43809040524377\" stroke-linecap=\"round\" style=\"stroke:white;stroke-width:4\"/><line x1=\"217.1273882263244\" y1=\"157.43809040524377\" x2=\"215.3909064496551\" y2=\"167.28616793536585\" stroke-linecap=\"round\" style=\"stroke:white;stroke-width:4\"/><line x1=\"215.3909064496551\" y1=\"167.28616793536585\" x2=\"200.0\" y2=\"124.99999999999997\" stroke-linecap=\"round\" style=\"stroke:white;stroke-width:4\"/>\n",
              "        \n",
              "      <g visibility=visible transform=\"rotate(180,200.0,124.99999999999997) translate(200.0, 124.99999999999997)\">\n",
              "        <circle stroke=\"white\" stroke-width=\"3\" fill=\"transparent\" r=\"12\" cx=\"0\" cy=\"0\"/>\n",
              "        <polygon points=\"0,19 3,16 -3,16\" style=\"fill:white;stroke:white;stroke-width:2\"/>\n",
              "      </g>\n",
              "    \n",
              "      </svg>\n",
              "    "
            ],
            "text/plain": [
              "<IPython.core.display.HTML object>"
            ]
          },
          "metadata": {
            "tags": []
          }
        }
      ]
    },
    {
      "cell_type": "markdown",
      "metadata": {
        "id": "qvvJp36PAOLz",
        "colab_type": "text"
      },
      "source": [
        "# Question 6: Your challenge now is to produce your own drawing in the following cell using a series of method calls.  \n",
        "\n",
        "You might find the calls to `penup()` and `pendown()` useful.  No values are placed between the parentheses for these two methods but they simulate lifting up and putting down a pen to the \"paper\" respectively.  Feel free to only use the methods we've worked with in this lab, or, if you want to explore further look ahead to the next text cell before creating your drawing."
      ]
    },
    {
      "cell_type": "code",
      "metadata": {
        "id": "wi7MA7xxaej_",
        "colab_type": "code",
        "colab": {}
      },
      "source": [
        ""
      ],
      "execution_count": 0,
      "outputs": []
    },
    {
      "cell_type": "markdown",
      "metadata": {
        "id": "wx2ey-J7A-cQ",
        "colab_type": "text"
      },
      "source": [
        "## Going further: \n",
        "\n",
        "The `ColabTurtle` library is available to view at [ColabTurtle.py](https://github.com/tolgaatam/ColabTurtle/blob/master/ColabTurtle/Turtle.py).  While we haven't discussed coding at all yet, it is still useful to start understanding how to read code.  Specifically, look for different lines that start with `def`.  The `forward()` method is defined on line 136 with a description of what the method does in comments above it on line 135.  Use ctrl+f (windows/linux) or cmd+f (mac) and search for the term \"def right\".  It should take you to line 154 where you will find a description of the `right()` method.\n",
        "\n",
        "There's a curious one, the method `color()` that takes in a color value.  However, the range of colors isn't limitless.  A computer does *exactly* what you tell it to.  No more, no less.  In the case of the library, go up to line 21.  The color you send to the method call must be one of the values inside the parentheses.  For example, `color('white')` or `color('green')` are valid calls, but `color('tangerine')` will produce an error.  \n",
        "\n",
        "## Developing Google-Fu\n",
        "\n",
        "One of the best skills you can build as a developer is gaining an understanding of how to search for what you don't know.  Over the course of this semester we will continue to work on this skill.  For today, let's start with a basic query.  Go to google.com and enter \"python turtle graphics examples\".  Click on the images tab.  You should see a collection of images that are examples of graphics produced with the turtle library.\n",
        "\n",
        "# Question 7: Submit a link to the image you find most stunning.  What is it about the image that you like?  Is there a webpage or blog post providing code or an explanation for how to produce it?\n",
        "\n",
        "**Note:** There are many versions of the turtle graphics library in Python.  The code might look slightly different than what we worked on today.\n",
        "\n",
        "##Submit:\n",
        "\n",
        "Submit a PDF containing your answers to the written questions as well as a link to your notebook under \"Lab #1: Introduction to Turtle Graphics\" on Blackboard."
      ]
    }
  ]
}